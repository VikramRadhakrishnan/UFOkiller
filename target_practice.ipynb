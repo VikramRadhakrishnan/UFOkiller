{
 "cells": [
  {
   "cell_type": "markdown",
   "metadata": {},
   "source": [
    "# Space Invaders trained with Deep Q Network"
   ]
  },
  {
   "cell_type": "markdown",
   "metadata": {},
   "source": [
    "## Step 0: Import necessary packages"
   ]
  },
  {
   "cell_type": "code",
   "execution_count": 1,
   "metadata": {},
   "outputs": [],
   "source": [
    "import numpy as np\n",
    "import matplotlib.pyplot as plt\n",
    "import tensorflow as tf\n",
    "import gym\n",
    "import random\n",
    "import cv2"
   ]
  },
  {
   "cell_type": "markdown",
   "metadata": {},
   "source": [
    "## Step 1: Activate the environment and examine state/action spaces"
   ]
  },
  {
   "cell_type": "code",
   "execution_count": 2,
   "metadata": {},
   "outputs": [],
   "source": [
    "env = gym.make('SpaceInvaders-v0')"
   ]
  },
  {
   "cell_type": "code",
   "execution_count": 3,
   "metadata": {},
   "outputs": [
    {
     "name": "stdout",
     "output_type": "stream",
     "text": [
      "(210, 160, 3)\n",
      "Discrete(6)\n",
      "['NOOP', 'FIRE', 'RIGHT', 'LEFT', 'RIGHTFIRE', 'LEFTFIRE']\n"
     ]
    }
   ],
   "source": [
    "print(env.observation_space.shape)\n",
    "print(env.action_space)\n",
    "print(env.unwrapped.get_action_meanings())"
   ]
  },
  {
   "cell_type": "code",
   "execution_count": 4,
   "metadata": {},
   "outputs": [],
   "source": [
    "state_shape = env.observation_space.shape\n",
    "action_size = env.action_space.n"
   ]
  },
  {
   "cell_type": "markdown",
   "metadata": {},
   "source": [
    "Let's take some random actions in the environment and see what happens..."
   ]
  },
  {
   "cell_type": "code",
   "execution_count": 5,
   "metadata": {},
   "outputs": [
    {
     "name": "stdout",
     "output_type": "stream",
     "text": [
      "Episode finished after 374 timesteps with a score of 60.0\n",
      "Episode finished after 839 timesteps with a score of 410.0\n",
      "Episode finished after 982 timesteps with a score of 165.0\n",
      "Episode finished after 415 timesteps with a score of 30.0\n",
      "Episode finished after 397 timesteps with a score of 30.0\n",
      "Episode finished after 402 timesteps with a score of 90.0\n",
      "Episode finished after 504 timesteps with a score of 15.0\n",
      "Episode finished after 548 timesteps with a score of 105.0\n",
      "Episode finished after 548 timesteps with a score of 60.0\n",
      "Episode finished after 500 timesteps with a score of 60.0\n",
      "Episode finished after 489 timesteps with a score of 50.0\n",
      "Episode finished after 697 timesteps with a score of 155.0\n",
      "Episode finished after 959 timesteps with a score of 240.0\n",
      "Episode finished after 611 timesteps with a score of 55.0\n",
      "Episode finished after 651 timesteps with a score of 80.0\n",
      "Episode finished after 656 timesteps with a score of 120.0\n",
      "Episode finished after 809 timesteps with a score of 155.0\n",
      "Episode finished after 640 timesteps with a score of 135.0\n",
      "Episode finished after 681 timesteps with a score of 180.0\n",
      "Episode finished after 385 timesteps with a score of 70.0\n",
      "Episode finished after 837 timesteps with a score of 230.0\n",
      "Episode finished after 654 timesteps with a score of 110.0\n",
      "Episode finished after 658 timesteps with a score of 180.0\n",
      "Episode finished after 645 timesteps with a score of 105.0\n",
      "Episode finished after 893 timesteps with a score of 240.0\n",
      "Episode finished after 519 timesteps with a score of 85.0\n",
      "Episode finished after 631 timesteps with a score of 105.0\n",
      "Episode finished after 724 timesteps with a score of 180.0\n",
      "Episode finished after 631 timesteps with a score of 105.0\n",
      "Episode finished after 626 timesteps with a score of 120.0\n",
      "Episode finished after 652 timesteps with a score of 115.0\n",
      "Episode finished after 788 timesteps with a score of 155.0\n",
      "Episode finished after 945 timesteps with a score of 245.0\n",
      "Episode finished after 542 timesteps with a score of 70.0\n",
      "Episode finished after 800 timesteps with a score of 150.0\n",
      "Episode finished after 1000 timesteps with a score of 210.0\n",
      "Episode finished after 558 timesteps with a score of 155.0\n",
      "Episode finished after 674 timesteps with a score of 110.0\n",
      "Episode finished after 689 timesteps with a score of 135.0\n",
      "Episode finished after 846 timesteps with a score of 410.0\n",
      "Episode finished after 656 timesteps with a score of 135.0\n",
      "Episode finished after 709 timesteps with a score of 120.0\n",
      "Episode finished after 540 timesteps with a score of 65.0\n",
      "Episode finished after 393 timesteps with a score of 60.0\n",
      "Episode finished after 603 timesteps with a score of 150.0\n",
      "Episode finished after 696 timesteps with a score of 320.0\n",
      "Episode finished after 462 timesteps with a score of 45.0\n",
      "Episode finished after 979 timesteps with a score of 310.0\n",
      "Episode finished after 784 timesteps with a score of 385.0\n",
      "Episode finished after 780 timesteps with a score of 155.0\n",
      "Episode finished after 512 timesteps with a score of 60.0\n",
      "Episode finished after 864 timesteps with a score of 210.0\n",
      "Episode finished after 651 timesteps with a score of 105.0\n",
      "Episode finished after 904 timesteps with a score of 250.0\n",
      "Episode finished after 561 timesteps with a score of 160.0\n",
      "Episode finished after 804 timesteps with a score of 235.0\n",
      "Episode finished after 675 timesteps with a score of 175.0\n",
      "Episode finished after 469 timesteps with a score of 80.0\n",
      "Episode finished after 839 timesteps with a score of 185.0\n",
      "Episode finished after 958 timesteps with a score of 195.0\n",
      "Episode finished after 700 timesteps with a score of 140.0\n",
      "Episode finished after 572 timesteps with a score of 80.0\n",
      "Episode finished after 773 timesteps with a score of 120.0\n",
      "Episode finished after 661 timesteps with a score of 155.0\n",
      "Episode finished after 512 timesteps with a score of 90.0\n",
      "Episode finished after 724 timesteps with a score of 135.0\n",
      "Episode finished after 796 timesteps with a score of 155.0\n",
      "Episode finished after 623 timesteps with a score of 105.0\n",
      "Episode finished after 752 timesteps with a score of 320.0\n",
      "Episode finished after 809 timesteps with a score of 210.0\n",
      "Episode finished after 964 timesteps with a score of 170.0\n",
      "Episode finished after 537 timesteps with a score of 90.0\n",
      "Episode finished after 977 timesteps with a score of 495.0\n",
      "Episode finished after 808 timesteps with a score of 385.0\n",
      "Episode finished after 697 timesteps with a score of 210.0\n",
      "Episode finished after 636 timesteps with a score of 15.0\n",
      "Episode finished after 531 timesteps with a score of 50.0\n",
      "Episode finished after 608 timesteps with a score of 105.0\n",
      "Episode finished after 601 timesteps with a score of 155.0\n",
      "Episode finished after 790 timesteps with a score of 135.0\n",
      "Episode finished after 466 timesteps with a score of 35.0\n",
      "Episode finished after 535 timesteps with a score of 45.0\n",
      "Episode finished after 592 timesteps with a score of 105.0\n",
      "Episode finished after 531 timesteps with a score of 80.0\n",
      "Episode finished after 436 timesteps with a score of 75.0\n",
      "Episode finished after 433 timesteps with a score of 75.0\n",
      "Episode finished after 1000 timesteps with a score of 340.0\n",
      "Episode finished after 725 timesteps with a score of 110.0\n",
      "Episode finished after 590 timesteps with a score of 100.0\n",
      "Episode finished after 726 timesteps with a score of 100.0\n",
      "Episode finished after 733 timesteps with a score of 120.0\n"
     ]
    }
   ],
   "source": [
    "scores = []\n",
    "for i_episode in range(100):\n",
    "    score = 0\n",
    "    observation = env.reset()\n",
    "    for t in range(1000):\n",
    "        env.render()\n",
    "        action = env.action_space.sample()\n",
    "        observation, reward, done, info = env.step(action)\n",
    "        score += reward\n",
    "        if done:\n",
    "            print(\"Episode finished after {0} timesteps with a score of {1}\".format(t+1, score))\n",
    "            break\n",
    "    scores.append(score)\n",
    "env.close()"
   ]
  },
  {
   "cell_type": "code",
   "execution_count": 7,
   "metadata": {},
   "outputs": [
    {
     "name": "stdout",
     "output_type": "stream",
     "text": [
      "Average score after 100 episodes = 157.6\n"
     ]
    }
   ],
   "source": [
    "print(\"Average score after 100 episodes = {}\".format(sum(scores)/len(scores)))"
   ]
  },
  {
   "cell_type": "markdown",
   "metadata": {},
   "source": [
    "## Step 2: Create and train the agent"
   ]
  },
  {
   "cell_type": "code",
   "execution_count": 8,
   "metadata": {},
   "outputs": [],
   "source": [
    "from agent import DQN\n",
    "from collections import deque"
   ]
  },
  {
   "cell_type": "code",
   "execution_count": 9,
   "metadata": {},
   "outputs": [],
   "source": [
    "# Grayscale the image, downsample it, crop out the irrelevant portion of the game, pad it into a square\n",
    "def preprocess(img):\n",
    "    src = cv2.cvtColor(img, cv2.COLOR_BGR2GRAY)[::2, ::2][:100,:]\n",
    "    src_norm = src / 255.0\n",
    "    dst = cv2.copyMakeBorder(src_norm, 0, 0, 10, 10, borderType=cv2.BORDER_CONSTANT, value=0.0)\n",
    "    return dst"
   ]
  },
  {
   "cell_type": "code",
   "execution_count": null,
   "metadata": {},
   "outputs": [],
   "source": [
    "# Define all hyperparameters here\n",
    "LR = 1e-3\n",
    "RANDOM_SEED = 42\n",
    "BUFFER_SIZE = 1e5\n",
    "BATCH_SIZE = 64\n",
    "GAMMA = 0.95\n",
    "TAU = 1e-3\n",
    "N_TIME_STEPS = 1\n",
    "N_LEARN_UPDATES = 1\n",
    "EPS_START = 1.0\n",
    "EPS_END = 0.01\n",
    "EPS_DECAY = 0.995\n",
    "\n",
    "if tf.test.is_gpu_available():\n",
    "    DEVICE = \"/GPU:0\"\n",
    "else:\n",
    "    DEVICE = \"/device:CPU:0\""
   ]
  },
  {
   "cell_type": "code",
   "execution_count": null,
   "metadata": {},
   "outputs": [],
   "source": [
    "state_size = (100, 100, 1) # After pre-processing images are 100x100x1\n",
    "action_size = env.action_space.n # Here, 6 available actions\n",
    "agent = DQN(state_size, action_size, LR,\n",
    "            RANDOM_SEED, BUFFER_SIZE, BATCH_SIZE,\n",
    "            GAMMA, TAU, N_TIME_STEPS, N_LEARN_UPDATES, DEVICE) # Instantiate the agent"
   ]
  },
  {
   "cell_type": "code",
   "execution_count": null,
   "metadata": {},
   "outputs": [],
   "source": [
    "def dqn(n_episodes=50000, print_every=100):\n",
    "    scores_deque = deque(maxlen=print_every)\n",
    "    scores = []\n",
    "    eps = EPS_START\n",
    "    \n",
    "    for i_episode in range(1, n_episodes+1):\n",
    "        state = env.reset()\n",
    "        state = preprocess(state)\n",
    "        \n",
    "        score = 0\n",
    "        t = 0\n",
    "        \n",
    "        while(True):\n",
    "            t += 1\n",
    "            \n",
    "            action = agent.act(state, eps)\n",
    "            \n",
    "            next_state, reward, done, _ = env.step(action)\n",
    "            \n",
    "            next_state = preprocess(next_state)\n",
    "            agent.step(t, state, action, reward, next_state, done)\n",
    "            \n",
    "            state = next_state.copy()\n",
    "            \n",
    "            score += reward\n",
    "            \n",
    "            if done:\n",
    "                break\n",
    "                \n",
    "        scores_deque.append(score)\n",
    "        scores.append(score)\n",
    "        \n",
    "        # Reduce exploration rate because we are more sure of our actions now\n",
    "        if eps > EPS_END:\n",
    "            eps *= EPS_DECAY\n",
    "            \n",
    "        print('\\rEpisode {}\\tAverage Score: {:.2f}'.format(i_episode, np.mean(scores_deque)), end=\"\")\n",
    "        agent.q_local.model.save('checkpoint_q_network.h5')\n",
    "        if i_episode % print_every == 0:\n",
    "            print('\\rEpisode {}\\tAverage Score: {:.2f}'.format(i_episode, np.mean(scores_deque)))\n",
    "            \n",
    "        if np.mean(scores_deque) >= 3000.0:\n",
    "            print('\\nHigh score so stopping training in {:d} episodes!\\tAverage Score: {:.2f}'.format(i_episode-100, np.mean(scores_deque)))\n",
    "            agent.q_local.model.save('checkpoint_q_network.h5')\n",
    "            break\n",
    "            \n",
    "    return scores\n",
    "\n",
    "scores = dqn()\n",
    "\n",
    "fig = plt.figure()\n",
    "ax = fig.add_subplot(111)\n",
    "plt.plot(np.arange(1, len(scores)+1), scores)\n",
    "plt.ylabel('Score')\n",
    "plt.xlabel('Episode #')\n",
    "plt.show()"
   ]
  },
  {
   "cell_type": "markdown",
   "metadata": {},
   "source": [
    "## Step 3: See the trained agent in action"
   ]
  },
  {
   "cell_type": "code",
   "execution_count": null,
   "metadata": {},
   "outputs": [],
   "source": [
    "from tensorflow.keras.models import load_model\n",
    "\n",
    "trained_model = load_model('checkpoint_actor.h5', compile=False)"
   ]
  },
  {
   "cell_type": "code",
   "execution_count": null,
   "metadata": {},
   "outputs": [],
   "source": [
    "for i_episode in range(20):\n",
    "    next_state = env.reset()\n",
    "    \n",
    "    score = 0.0\n",
    "    \n",
    "    for t in range(999):\n",
    "        env.render()\n",
    "        next_state = np.expand_dims(next_state, axis=0)\n",
    "        action = trained_model(next_state).numpy()[0]\n",
    "        next_state, reward, done, info = env.step(action)\n",
    "        score += reward\n",
    "        if done:\n",
    "            break\n",
    "    \n",
    "    print(\"Episode {0} finished after {1} timesteps. Total score: {2}\".format(i_episode+1, t+1, score))\n",
    "            \n",
    "env.close()"
   ]
  }
 ],
 "metadata": {
  "kernelspec": {
   "display_name": "Python [conda env:ai_esports] *",
   "language": "python",
   "name": "conda-env-ai_esports-py"
  },
  "language_info": {
   "codemirror_mode": {
    "name": "ipython",
    "version": 3
   },
   "file_extension": ".py",
   "mimetype": "text/x-python",
   "name": "python",
   "nbconvert_exporter": "python",
   "pygments_lexer": "ipython3",
   "version": "3.7.6"
  }
 },
 "nbformat": 4,
 "nbformat_minor": 4
}
